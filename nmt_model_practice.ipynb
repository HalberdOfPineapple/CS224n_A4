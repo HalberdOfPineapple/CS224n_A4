{
 "cells": [
  {
   "cell_type": "code",
   "execution_count": 2,
   "id": "f4134780",
   "metadata": {},
   "outputs": [],
   "source": [
    "from collections import namedtuple\n",
    "import sys\n",
    "from typing import List, Tuple\n",
    "import torch\n",
    "import torch.nn as nn\n",
    "import torch.nn.utils\n",
    "import torch.nn.functional as F\n",
    "from torch.nn.utils.rnn import pad_packed_sequence, pack_padded_sequence\n",
    "\n",
    "from model_embeddings import ModelEmbeddings\n",
    "Hypothesis = namedtuple('Hypothesis', ['value', 'score'])"
   ]
  },
  {
   "cell_type": "markdown",
   "id": "8b4b6763",
   "metadata": {},
   "source": [
    "- namedtuple is subclass of tuple, whose attributes can be accessed by name\n",
    "    - e.g. h = Hypothesis(11, score=12)\n",
    "        - instantiate with positional or keyword arguments\n",
    "    - h.value + h.score\n",
    "        - fields accesible by name"
   ]
  },
  {
   "cell_type": "code",
   "execution_count": null,
   "id": "f6c5d588",
   "metadata": {},
   "outputs": [],
   "source": [
    "class NMT(nn.Module):\n",
    "    def __init__(self, embed_size, hidden_size, vocab, dropout_rate=0.2):\n",
    "        super(NMT).__init__()\n",
    "        self.model_embeddings = ModelEmbeddings(embed_size, vocab)\n",
    "        self.hidden_size = hidden_size\n",
    "        self.dropout_rate = dropout_rate\n",
    "        self.vocab = vocab\n",
    "        \n",
    "        "
   ]
  }
 ],
 "metadata": {
  "kernelspec": {
   "display_name": "Python 3",
   "language": "python",
   "name": "python3"
  },
  "language_info": {
   "codemirror_mode": {
    "name": "ipython",
    "version": 3
   },
   "file_extension": ".py",
   "mimetype": "text/x-python",
   "name": "python",
   "nbconvert_exporter": "python",
   "pygments_lexer": "ipython3",
   "version": "3.9.6"
  }
 },
 "nbformat": 4,
 "nbformat_minor": 5
}
